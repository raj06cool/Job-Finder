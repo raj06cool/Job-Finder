{
 "cells": [
  {
   "cell_type": "code",
   "execution_count": 1,
   "id": "29e022e7",
   "metadata": {},
   "outputs": [],
   "source": [
    "from bs4 import BeautifulSoup\n",
    "import requests"
   ]
  },
  {
   "cell_type": "code",
   "execution_count": 2,
   "id": "716fe4ba",
   "metadata": {},
   "outputs": [
    {
     "name": "stdout",
     "output_type": "stream",
     "text": [
      "<Response [200]>\n"
     ]
    }
   ],
   "source": [
    "html_text=requests.get('https://www.timesjobs.com/candidate/job-search.html?searchType=personalizedSearch&from=submit&txtKeywords=python&txtLocation=')\n",
    "print(html_text)"
   ]
  },
  {
   "cell_type": "code",
   "execution_count": 3,
   "id": "d7483b9d",
   "metadata": {},
   "outputs": [],
   "source": [
    "html_text=requests.get('https://www.timesjobs.com/candidate/job-search.html?searchType=personalizedSearch&from=submit&txtKeywords=python&txtLocation=').text"
   ]
  },
  {
   "cell_type": "code",
   "execution_count": 4,
   "id": "dcc3f731",
   "metadata": {},
   "outputs": [],
   "source": [
    "soup = BeautifulSoup(html_text, 'lxml')"
   ]
  },
  {
   "cell_type": "code",
   "execution_count": 5,
   "id": "77072b02",
   "metadata": {},
   "outputs": [],
   "source": [
    "jobs = soup.find('li',class_='clearfix job-bx wht-shd-bx')\n"
   ]
  },
  {
   "cell_type": "code",
   "execution_count": 6,
   "id": "639354de",
   "metadata": {},
   "outputs": [
    {
     "name": "stdout",
     "output_type": "stream",
     "text": [
      "\r\n",
      "    Pure Tech Codex Private Limited\r\n",
      "    \r\n",
      "    \n"
     ]
    }
   ],
   "source": [
    "company_name=jobs.find('h3',class_='joblist-comp-name').text\n",
    "print(company_name)"
   ]
  },
  {
   "cell_type": "code",
   "execution_count": 7,
   "id": "33ddc8d9",
   "metadata": {},
   "outputs": [
    {
     "name": "stdout",
     "output_type": "stream",
     "text": [
      "\r\n",
      "PureTechCodexPrivateLimited\r\n",
      "\r\n",
      "\n"
     ]
    }
   ],
   "source": [
    "company_name=jobs.find('h3',class_='joblist-comp-name').text.replace(' ','')\n",
    "print(company_name)"
   ]
  },
  {
   "cell_type": "code",
   "execution_count": 8,
   "id": "93f6f365",
   "metadata": {},
   "outputs": [
    {
     "name": "stdout",
     "output_type": "stream",
     "text": [
      "\r\n",
      "PureTechCodexPrivateLimited\r\n",
      "\r\n",
      "\n"
     ]
    }
   ],
   "source": [
    "company_name=jobs.find('h3',class_='joblist-comp-name').text.replace(' ','')\n",
    "print(company_name)"
   ]
  },
  {
   "cell_type": "code",
   "execution_count": 10,
   "id": "e465affa",
   "metadata": {},
   "outputs": [
    {
     "name": "stdout",
     "output_type": "stream",
     "text": [
      "company name:\r\n",
      "PureTechCodexPrivateLimited\r\n",
      "\r\n",
      "skills:\r\n",
      "\r\n",
      "rest,python,database,django,debugging,mongodb\r\n",
      "\r\n",
      "\n"
     ]
    }
   ],
   "source": [
    "extra_skills=jobs.find('span',class_='srp-skills').text.replace(' ','')\n",
    "print(f'''company name:{company_name}skills:{extra_skills}''')"
   ]
  },
  {
   "cell_type": "code",
   "execution_count": 11,
   "id": "1b3db1cf",
   "metadata": {},
   "outputs": [
    {
     "name": "stdout",
     "output_type": "stream",
     "text": [
      "Postedfewdaysago\n"
     ]
    }
   ],
   "source": [
    "published_date=jobs.find('span',class_='sim-posted').span.text.replace(' ','')\n",
    "print(published_date)"
   ]
  },
  {
   "cell_type": "code",
   "execution_count": 12,
   "id": "969ce6ad",
   "metadata": {},
   "outputs": [
    {
     "name": "stdout",
     "output_type": "stream",
     "text": [
      "company name:PureTechCodexPrivateLimited\n",
      "skills:rest,python,database,django,debugging,mongodb\n",
      "published date:Postedfewdaysago\n",
      "\n",
      "company name:SuryaInformaticsSolutionsPvt.Ltd.\n",
      "skills:python,webtechnologies,linux,mobile,mysql,angularjs,javascript\n",
      "published date:Postedfewdaysago\n",
      "\n",
      "company name:AngelandGenie\n",
      "skills:python,docker,messaging,pythonscripting\n",
      "published date:Postedfewdaysago\n",
      "\n",
      "company name:PerfiosSoftware\n",
      "skills:python,java,scala\n",
      "published date:Postedfewdaysago\n",
      "\n",
      "company name:TriadssTechSolutions\n",
      "skills:python,django,html5,javascript\n",
      "published date:Postedfewdaysago\n",
      "\n",
      "company name:IvanInfotechPvt.Ltd.\n",
      "skills:rest,python,security,debugging\n",
      "published date:Postedfewdaysago\n",
      "\n",
      "company name:TandAHRSolutions\n",
      "skills:python,git,django\n",
      "published date:Postedfewdaysago\n",
      "\n",
      "company name:DatagridSolutions\n",
      "skills:python,database,django,mysql,api\n",
      "published date:Postedfewdaysago\n",
      "\n",
      "company name:eastindiasecuritiesltd.\n",
      "skills:python,hadoop,machinelearning\n",
      "published date:Postedfewdaysago\n",
      "\n",
      "company name:WingGlobalITServices\n",
      "skills:springboot,python,java,django,jpa,hibernate\n",
      "published date:Postedfewdaysago\n",
      "\n",
      "company name:PerfiosSoftwareSolutionsPvt.Ltd.\n",
      "skills:python,java,scala\n",
      "published date:Postedfewdaysago\n",
      "\n",
      "company name:hkinfosoft\n",
      "skills:python,django,,framework\n",
      "published date:Postedfewdaysago\n",
      "\n",
      "company name:JobsLoConsultants\n",
      "skills:python,linux,windows,sql\n",
      "published date:Postedfewdaysago\n",
      "\n",
      "company name:LAKSHHUMANRESOURCE\n",
      "skills:rest,python,django,git\n",
      "published date:Postedfewdaysago\n",
      "\n",
      "company name:arttechnologyandsoftwareindiapvtltd\n",
      "skills:rest,python,database,django,api\n",
      "published date:Postedfewdaysago\n",
      "\n",
      "company name:sjainventures\n",
      "skills:python,webdeveloper,webservices\n",
      "published date:Postedfewdaysago\n",
      "\n",
      "company name:TandAHRSolutions\n",
      "skills:Python,Django,Flask\n",
      "published date:Postedfewdaysago\n",
      "\n",
      "company name:youngmindstechnologysolutionspvtltd\n",
      "skills:python,html5,storage,javascript,security,django\n",
      "published date:Postedfewdaysago\n",
      "\n",
      "company name:systango\n",
      "skills:python,django,javascript,webprogramming\n",
      "published date:Postedfewdaysago\n",
      "\n",
      "company name:APPLYCUPHIRINGSOLUTIONSLLP\n",
      "skills:python,Django,ObjectRelationalMapper\n",
      "published date:Postedfewdaysago\n",
      "\n",
      "company name:APPLYCUPHIRINGSOLUTIONSLLP\n",
      "skills:python,webtechnologies,webtechnologies\n",
      "published date:Postedfewdaysago\n",
      "\n"
     ]
    }
   ],
   "source": [
    "jobs = soup.find_all('li',class_='clearfix job-bx wht-shd-bx')\n",
    "for job in jobs:\n",
    "    published_date=job.find('span',class_='sim-posted').span.text.replace(' ','')\n",
    "    if 'few' in published_date:\n",
    "            company_name=job.find('h3',class_='joblist-comp-name').text.replace(' ','')\n",
    "            extra_skills=job.find('span',class_='srp-skills').text.replace(' ','')\n",
    "            print(f\"company name:{company_name.strip()}\")\n",
    "            print(f\"skills:{extra_skills.strip()}\")\n",
    "            print(f\"published date:{published_date.strip()}\")\n",
    "            print('')"
   ]
  },
  {
   "cell_type": "code",
   "execution_count": 13,
   "id": "32d8a941",
   "metadata": {},
   "outputs": [
    {
     "name": "stdout",
     "output_type": "stream",
     "text": [
      "put some unfamiliar skill\n",
      ">django\n",
      "filtering out django\n",
      "company name:SuryaInformaticsSolutionsPvt.Ltd.\n",
      "skills:python,webtechnologies,linux,mobile,mysql,angularjs,javascript\n",
      "published date:Postedfewdaysago\n",
      "more info:https://www.timesjobs.com/job-detail/python-surya-informatics-solutions-pvt-ltd-chennai-0-to-3-yrs-jobid-UVlLes58wutzpSvf__PLUS__uAgZw==&source=srp\n",
      "\n",
      "company name:AngelandGenie\n",
      "skills:python,docker,messaging,pythonscripting\n",
      "published date:Postedfewdaysago\n",
      "more info:https://www.timesjobs.com/job-detail/python-developers-angel-and-genie-pune-4-to-7-yrs-jobid-RdTRi__PLUS__3E__SLASH__bpzpSvf__PLUS__uAgZw==&source=srp\n",
      "\n",
      "company name:PerfiosSoftware\n",
      "skills:python,java,scala\n",
      "published date:Postedfewdaysago\n",
      "more info:https://www.timesjobs.com/job-detail/python-developer-perfios-software-bengaluru-bangalore-5-to-8-yrs-jobid-5GGtzEeKMXxzpSvf__PLUS__uAgZw==&source=srp\n",
      "\n",
      "company name:IvanInfotechPvt.Ltd.\n",
      "skills:rest,python,security,debugging\n",
      "published date:Postedfewdaysago\n",
      "more info:https://www.timesjobs.com/job-detail/python-developer-ivan-infotech-pvt-ltd-kolkata-2-to-5-yrs-jobid-1h6sLaqbaBZzpSvf__PLUS__uAgZw==&source=srp\n",
      "\n",
      "company name:eastindiasecuritiesltd.\n",
      "skills:python,hadoop,machinelearning\n",
      "published date:Postedfewdaysago\n",
      "more info:https://www.timesjobs.com/job-detail/python-engineer-east-india-securities-ltd-kolkata-2-to-5-yrs-jobid-KEkE19WqPbFzpSvf__PLUS__uAgZw==&source=srp\n",
      "\n",
      "company name:PerfiosSoftwareSolutionsPvt.Ltd.\n",
      "skills:python,java,scala\n",
      "published date:Postedfewdaysago\n",
      "more info:https://www.timesjobs.com/job-detail/python-developer-perfios-software-solutions-pvt-ltd-bengaluru-bangalore-5-to-8-yrs-jobid-vxzXapFfNqVzpSvf__PLUS__uAgZw==&source=srp\n",
      "\n",
      "company name:JobsLoConsultants\n",
      "skills:python,linux,windows,sql\n",
      "published date:Postedfewdaysago\n",
      "more info:https://www.timesjobs.com/job-detail/python-developer-jobslo-consultants-indore-2-to-3-yrs-jobid-XP1detWpoa5zpSvf__PLUS__uAgZw==&source=srp\n",
      "\n",
      "company name:sjainventures\n",
      "skills:python,webdeveloper,webservices\n",
      "published date:Postedfewdaysago\n",
      "more info:https://www.timesjobs.com/job-detail/python-intern-sjain-ventures-raipur-0-to-3-yrs-jobid-KmspiL9__SLASH__D9hzpSvf__PLUS__uAgZw==&source=srp\n",
      "\n",
      "company name:TandAHRSolutions\n",
      "skills:Python,Django,Flask\n",
      "published date:Postedfewdaysago\n",
      "more info:https://www.timesjobs.com/job-detail/python-developer-tanda-hr-solutions-mohali-chandigarh-3-to-6-yrs-jobid-hyDozRehVidzpSvf__PLUS__uAgZw==&source=srp\n",
      "\n",
      "company name:APPLYCUPHIRINGSOLUTIONSLLP\n",
      "skills:python,Django,ObjectRelationalMapper\n",
      "published date:Postedfewdaysago\n",
      "more info:https://www.timesjobs.com/job-detail/python-developer-applycup-hiring-solutions-llp-surat-3-to-5-yrs-jobid-uj9JLhqjw6dzpSvf__PLUS__uAgZw==&source=srp\n",
      "\n",
      "company name:APPLYCUPHIRINGSOLUTIONSLLP\n",
      "skills:python,webtechnologies,webtechnologies\n",
      "published date:Postedfewdaysago\n",
      "more info:https://www.timesjobs.com/job-detail/python-trainer-applycup-hiring-solutions-llp-pune-4-to-6-yrs-jobid-3V1Biww1YVJzpSvf__PLUS__uAgZw==&source=srp\n",
      "\n"
     ]
    }
   ],
   "source": [
    "html_text=requests.get('https://www.timesjobs.com/candidate/job-search.html?searchType=personalizedSearch&from=submit&txtKeywords=python&txtLocation=').text\n",
    "soup = BeautifulSoup(html_text, 'lxml')\n",
    "print(\"put some unfamiliar skill\")\n",
    "unfamiliar_skill=input('>')\n",
    "print(f'filtering out {unfamiliar_skill}')\n",
    "jobs = soup.find_all('li',class_='clearfix job-bx wht-shd-bx')\n",
    "for job in jobs:\n",
    "    published_date=job.find('span',class_='sim-posted').span.text.replace(' ','')\n",
    "    if 'few' in published_date:\n",
    "            company_name=job.find('h3',class_='joblist-comp-name').text.replace(' ','')\n",
    "            extra_skills=job.find('span',class_='srp-skills').text.replace(' ','')\n",
    "            more_info=job.header.h2.a['href']\n",
    "            if unfamiliar_skill not in extra_skills:\n",
    "                print(f\"company name:{company_name.strip()}\")\n",
    "                print(f\"skills:{extra_skills.strip()}\")\n",
    "                print(f\"published date:{published_date.strip()}\")\n",
    "                print(f\"more info:{more_info.strip()}\")\n",
    "                print('')"
   ]
  },
  {
   "cell_type": "code",
   "execution_count": null,
   "id": "c21bb1f8",
   "metadata": {},
   "outputs": [],
   "source": []
  }
 ],
 "metadata": {
  "kernelspec": {
   "display_name": "Python 3 (ipykernel)",
   "language": "python",
   "name": "python3"
  },
  "language_info": {
   "codemirror_mode": {
    "name": "ipython",
    "version": 3
   },
   "file_extension": ".py",
   "mimetype": "text/x-python",
   "name": "python",
   "nbconvert_exporter": "python",
   "pygments_lexer": "ipython3",
   "version": "3.9.13"
  }
 },
 "nbformat": 4,
 "nbformat_minor": 5
}
